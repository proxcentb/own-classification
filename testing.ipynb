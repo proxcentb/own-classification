{
 "cells": [
  {
   "cell_type": "code",
   "execution_count": 33,
   "id": "237883d5",
   "metadata": {},
   "outputs": [],
   "source": [
    "import torch\n",
    "from torch import nn\n",
    "import pygame as pg\n",
    "from pygame import init, font, display as dp, time, event, mouse as ms\n",
    "import numpy as np\n",
    "import sys\n",
    "from pygame import display as dp\n",
    "import numpy as np\n",
    "from torchvision.datasets import ImageFolder\n",
    "import matplotlib.pyplot as plt"
   ]
  },
  {
   "cell_type": "code",
   "execution_count": 83,
   "id": "719790cc",
   "metadata": {},
   "outputs": [
    {
     "data": {
      "text/plain": [
       "Net(\n",
       "  (conv1): Conv2d(1, 8, kernel_size=(7, 7), stride=(1, 1), padding=(3, 3), bias=False)\n",
       "  (relu1): LeakyReLU(negative_slope=0.01)\n",
       "  (pool1): AvgPool2d(kernel_size=8, stride=8, padding=0)\n",
       "  (conv2): Conv2d(8, 5, kernel_size=(3, 3), stride=(1, 1), padding=(1, 1), bias=False)\n",
       "  (relu2): LeakyReLU(negative_slope=0.01)\n",
       "  (pool2): AvgPool2d(kernel_size=4, stride=4, padding=0)\n",
       "  (flatten): Flatten(start_dim=1, end_dim=-1)\n",
       "  (lin1): Linear(in_features=20, out_features=7, bias=True)\n",
       ")"
      ]
     },
     "execution_count": 83,
     "metadata": {},
     "output_type": "execute_result"
    }
   ],
   "source": [
    "model = torch.load(\"model.pth\")\n",
    "model.eval()\n",
    "model.to('cpu')"
   ]
  },
  {
   "cell_type": "code",
   "execution_count": 84,
   "id": "8656a141",
   "metadata": {},
   "outputs": [
    {
     "data": {
      "image/png": "[encoded data removed]",
      "text/plain": [
       "<Figure size 1080x1080 with 8 Axes>"
      ]
     },
     "metadata": {
      "needs_background": "light"
     },
     "output_type": "display_data"
    }
   ],
   "source": [
    "fig, ax = plt.subplots(1, model.conv1.weight.data.shape[0], figsize=(15, 15))\n",
    "weight = model.conv1.weight.data.view(-1, 7, 7).numpy()\n",
    "for i in range(0, model.conv1.weight.data.shape[0]):\n",
    "    ax[i].matshow(weight[i])"
   ]
  },
  {
   "cell_type": "code",
   "execution_count": 85,
   "id": "8a0b5fa3",
   "metadata": {},
   "outputs": [
    {
     "data": {
      "image/png": "[encoded data removed]",
      "text/plain": [
       "<Figure size 1080x1080 with 5 Axes>"
      ]
     },
     "metadata": {
      "needs_background": "light"
     },
     "output_type": "display_data"
    }
   ],
   "source": [
    "fig, ax = plt.subplots(1, model.conv2.weight.data.shape[0], figsize=(15, 15))\n",
    "weight = model.conv2.weight.data.view(-1, 3, 3).numpy()\n",
    "for i in range(0, model.conv2.weight.data.shape[0]):\n",
    "    ax[i].matshow(weight[i])"
   ]
  },
  {
   "cell_type": "code",
   "execution_count": null,
   "id": "eea63ebe",
   "metadata": {},
   "outputs": [],
   "source": []
  }
 ],
 "metadata": {
  "kernelspec": {
   "display_name": "Python 3.10.4 ('ml')",
   "language": "python",
   "name": "python3"
  },
  "language_info": {
   "codemirror_mode": {
    "name": "ipython",
    "version": 3
   },
   "file_extension": ".py",
   "mimetype": "text/x-python",
   "name": "python",
   "nbconvert_exporter": "python",
   "pygments_lexer": "ipython3",
   "version": "3.10.4"
  },
  "vscode": {
   "interpreter": {
    "hash": "7877ea656e75f268f11742f040fb3cd5fcf04723d093c9d22bfe7180be8beed9"
   }
  }
 },
 "nbformat": 4,
 "nbformat_minor": 5
}
